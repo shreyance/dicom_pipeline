{
 "cells": [
  {
   "cell_type": "markdown",
   "metadata": {},
   "source": [
    "### Generating Medical Imaging Reports"
   ]
  },
  {
   "cell_type": "code",
   "execution_count": 123,
   "metadata": {},
   "outputs": [],
   "source": [
    "import json\n",
    "import pydicom\n",
    "from datetime import datetime"
   ]
  },
  {
   "cell_type": "markdown",
   "metadata": {},
   "source": [
    "## Writing into DICOM Images"
   ]
  },
  {
   "cell_type": "code",
   "execution_count": 78,
   "metadata": {},
   "outputs": [],
   "source": [
    "#load selected dicom files to update dicom tags as listed below\n",
    "ds = pydicom.dcmread(\"CXR147_IM-0303-1001.dcm\") "
   ]
  },
  {
   "cell_type": "code",
   "execution_count": 79,
   "metadata": {},
   "outputs": [
    {
     "name": "stdout",
     "output_type": "stream",
     "text": [
      "Mark Aldrin\n",
      "19391114\n",
      "Dr. Zeinmann\n",
      "['DERIVED', 'SECONDARY', '', 'CSA RESAMPLED']\n",
      "20111121 \n",
      "The lungs are clear. Heart and pulmonary XXXX appear normal. The pleural spaces are clear and mediastinal contours are normal. Nodular density overlying the anterior left 4th rib XXXX represents a healing rib fracture.\n",
      "1. No acute cardiopulmonary disease\n",
      "Chest\n"
     ]
    }
   ],
   "source": [
    "#updating values of dicom data\n",
    "#Patient Name - field exists\n",
    "ds.PatientName = 'Mark Aldrin'\n",
    "print(ds.PatientName)\n",
    "#DOB\n",
    "print(ds.PatientBirthDate)\n",
    "\n",
    "#Physician\n",
    "ds.ReferringPhysicianName = 'Dr. Zeinmann'\n",
    "print(ds.ReferringPhysicianName)\n",
    "#Type of Imaging Study\n",
    "print(ds.ImageType)\n",
    "#Date Time of Study\n",
    "print(ds.StudyDate,ds.StudyTime)\n",
    "#Clinical History (0040,100A)\tSQ\tReason for Requested Procedure Code Sequence\n",
    "ds.add_new(0x00401002,'LO','not presented in dicom file')\n",
    "#ds.ReasonForRequestedProcedure = \n",
    "#Comparison\n",
    "#Technique\n",
    "#Findings from model\n",
    "fin = \"The lungs are clear. Heart and pulmonary XXXX appear normal. The pleural spaces are clear and mediastinal contours are normal. Nodular density overlying the anterior left 4th rib XXXX represents a healing rib fracture.\"\n",
    "print(fin)\n",
    "#impressions from model\n",
    "imp = \"1. No acute cardiopulmonary disease\"\n",
    "print(imp)\n",
    "#tags from model\n",
    "tags = \"normal\"\n",
    "#Body Part Examined\n",
    "ds.BodyPartExamined = \"Chest\"\n",
    "print(ds.BodyPartExamined)\n",
    "pydicom.write_file('CXR147_IM-0303-1001.dcm',ds)"
   ]
  },
  {
   "cell_type": "code",
   "execution_count": 88,
   "metadata": {},
   "outputs": [],
   "source": [
    "from fpdf import FPDF\n",
    "\n",
    "#pending - include header and footer. Include AGMIR logo\n",
    "def generate_medical_report(image_file,dcm_file_data):\n",
    "    pdf = FPDF(format='letter', unit='in')\n",
    "\n",
    "    effective_page_width = pdf.w - 2*pdf.l_margin\n",
    "    pdf.add_page()\n",
    "\n",
    "    #Header\n",
    "    pdf.set_font('Times','B',14.0)\n",
    "    pdf.cell(1.0, 0.0,\"Radiology Report\",ln=1, align=\"C\")\n",
    "    pdf.ln(0.5)\n",
    "    \n",
    "    #Patient Demographic\n",
    "    pdf.set_font('Times','',10.0) \n",
    "    pdf.cell(1.0, 0.0, \"Patient Name: \"+str(dcm_file_data['PatientName']), ln=1, align=\"L\")\n",
    "    pdf.ln(0.25)\n",
    "    \n",
    "    pdf.cell(1.0, 0.0, txt=\"Date of Birth: \"+str(dcm_file_data['DOB']), ln=1, align=\"L\")\n",
    "    pdf.ln(0.25)\n",
    "    \n",
    "    pdf.cell(1.0, 0.0, txt=\"Physician: \"+str(dcm_file_data['Physician']), ln=1, align=\"L\")\n",
    "    pdf.ln(0.25)\n",
    "    \n",
    "    pdf.cell(1.0, 0.0, txt=\"Exam: \"+str(dcm_file_data['Exam']), ln=1, align=\"L\")\n",
    "    pdf.ln(0.25)\n",
    "    \n",
    "    pdf.cell(1.0, 0.0, txt=\"Date: \"+str(dcm_file_data['ExamDate']), ln=1, align=\"L\")\n",
    "    pdf.ln(0.5)\n",
    "    \n",
    "    #Clinical Information\n",
    "    pdf.set_font('Times','B',10.0)\n",
    "    pdf.cell(1.0, 0.0, txt=\"Clinical History \", ln=1, align=\"L\")\n",
    "    pdf.set_font('Times','',10.0)\n",
    "    Clinical_History = str(dcm_file_data['CH'])\n",
    "    pdf.ln(0.25)\n",
    "    pdf.multi_cell(effective_page_width*0.8, .15,Clinical_History)\n",
    "    pdf.ln(0.25)\n",
    "    \n",
    "    #Comparison\n",
    "    #pdf.set_font('Times','B',10.0)\n",
    "    #pdf.cell(1.0, 0.0, txt=\"Comparison\", ln=1, align=\"L\")\n",
    "    #Comparison = str(dcm_file_data['Comp'])\n",
    "    #pdf.ln(0.25)\n",
    "    #pdf.set_font('Times','',10.0)\n",
    "    #pdf.multi_cell(effective_page_width, .15,Comparison)\n",
    "    #pdf.ln(0.25)\n",
    "    \n",
    "    #Technique\n",
    "    #pdf.set_font('Times','B',10.0)\n",
    "    #pdf.cell(1.0, 0.0, txt=\"Technique\", ln=1, align=\"L\")\n",
    "    #pdf.ln(0.25)\n",
    "    #Technique = str(dcm_file_data['Technique'])\n",
    "    #pdf.set_font('Times','',10.0)\n",
    "    #pdf.multi_cell(effective_page_width, .15,Technique)\n",
    "    #pdf.ln(0.25)\n",
    "    \n",
    "    #Findings\n",
    "    pdf.set_font('Times','BI',10.0)\n",
    "    pdf.cell(1.0, 0.0, txt=\"Findings\", ln=1, align=\"L\")\n",
    "    pdf.ln(0.25)\n",
    "    Findings = str(dcm_file_data['Findings'])\n",
    "    pdf.set_font('Times','',10.0)\n",
    "    pdf.multi_cell(effective_page_width, .15,Findings)\n",
    "    pdf.ln(0.25)\n",
    "    \n",
    "    #Impression\n",
    "    pdf.set_font('Times','B',10.0)\n",
    "    pdf.cell(1.0, 0.0, txt=\"Impression\", ln=1, align=\"L\")\n",
    "    pdf.ln(0.25)\n",
    "    Impression = str(dcm_file_data['Impression'])\n",
    "    pdf.set_font('Times','',10.0)\n",
    "    pdf.multi_cell(effective_page_width, .15,Impression)\n",
    "    pdf.ln(0.25)\n",
    "    \n",
    "    #Tags\n",
    "    pdf.set_font('Times','B',10.0)\n",
    "    pdf.cell(1.0, 0.0, txt=\"Tags\", ln=1, align=\"L\")\n",
    "    pdf.ln(0.25)\n",
    "    Tags = str(dcm_file_data['Tags'])\n",
    "    pdf.set_font('Times','',10.0)\n",
    "    pdf.multi_cell(effective_page_width, .15,Tags)\n",
    "    pdf.ln(0.25)\n",
    "    filename = str(image_file) +'.pdf'\n",
    "    pdf.output(filename)"
   ]
  },
  {
   "cell_type": "code",
   "execution_count": 125,
   "metadata": {},
   "outputs": [],
   "source": [
    "def dicom2dict(x,fin,imp,tags):\n",
    "    dcm_data = {}\n",
    "    dcm_data['PatientName'] = str(x.PatientName)\n",
    "    dt = datetime.strptime(str(x.PatientBirthDate)[:4]+\" \"+str(x.PatientBirthDate[4:6])+\" \"+str(x.PatientBirthDate)[6:], '%Y %m %d')\n",
    "    dcm_data['DOB'] = dt.strftime(\"%d %B %Y\")\n",
    "    dcm_data['Physician'] = str(x.ReferringPhysicianName)\n",
    "    dcm_data['Exam'] = str(x.BodyPartExamined)+ \" \" + str(x.Modality)\n",
    "\n",
    "    dt = datetime.strptime(str(x.StudyDate)[:4]+\" \"+str(x.StudyDate[4:6])+\" \"+str(x.StudyDate)[6:], '%Y %m %d')\n",
    "    dcm_data['ExamDate'] = dt.strftime(\"%d %B %Y\")\n",
    "    dcm_data['CH'] = str(x.ReasonForTheRequestedProcedure)\n",
    "    dcm_data['Findings'] = fin\n",
    "    dcm_data['Impression'] = imp\n",
    "    dcm_data['Tags'] = tags\n",
    "    \n",
    "    return dcm_data"
   ]
  },
  {
   "cell_type": "code",
   "execution_count": 127,
   "metadata": {},
   "outputs": [],
   "source": [
    "x = pydicom.dcmread(\"CXR147_IM-0303-1001.dcm\")\n",
    "#fin,imp,tags = take value from model\n",
    "dcm_data = dicom2dict(x,fin,imp,tags)\n",
    "generate_medical_report('CXR147_IM-0303-1001',dcm_data)"
   ]
  },
  {
   "cell_type": "code",
   "execution_count": null,
   "metadata": {},
   "outputs": [],
   "source": []
  }
 ],
 "metadata": {
  "kernelspec": {
   "display_name": "Python 3",
   "language": "python",
   "name": "python3"
  },
  "language_info": {
   "codemirror_mode": {
    "name": "ipython",
    "version": 3
   },
   "file_extension": ".py",
   "mimetype": "text/x-python",
   "name": "python",
   "nbconvert_exporter": "python",
   "pygments_lexer": "ipython3",
   "version": "3.6.7"
  }
 },
 "nbformat": 4,
 "nbformat_minor": 2
}
