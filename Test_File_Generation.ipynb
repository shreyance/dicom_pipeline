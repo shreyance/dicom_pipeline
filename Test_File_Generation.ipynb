{
 "cells": [
  {
   "cell_type": "markdown",
   "metadata": {},
   "source": [
    "# Generating Test Dicom Files"
   ]
  },
  {
   "cell_type": "code",
   "execution_count": 24,
   "metadata": {},
   "outputs": [],
   "source": [
    "import json\n",
    "import pydicom\n",
    "import dsuport as sp\n",
    "from importlib import reload\n",
    "reload(sp)\n",
    "#sp.reload()\n",
    "import matplotlib.pylab as plt\n",
    "%matplotlib inline\n",
    "\n",
    "from bs4 import BeautifulSoup"
   ]
  },
  {
   "cell_type": "code",
   "execution_count": 25,
   "metadata": {},
   "outputs": [
    {
     "name": "stdout",
     "output_type": "stream",
     "text": [
      "[<major>Foreign Bodies/thorax/left</major>]\n"
     ]
    }
   ],
   "source": [
    "infile = open('Test dicom files/99.xml',\"r\")\n",
    "data = infile.read()\n",
    "soup = BeautifulSoup(data,\"lxml\")\n",
    "fields = soup.find_all('major')\n",
    "print(fields)"
   ]
  },
  {
   "cell_type": "code",
   "execution_count": 26,
   "metadata": {},
   "outputs": [
    {
     "name": "stdout",
     "output_type": "stream",
     "text": [
      "(0008, 0008) Image Type                          CS: ['ORIGINAL', 'PRIMARY', '']\n",
      "(0008, 0016) SOP Class UID                       UI: Digital X-Ray Image Storage - For Presentation\n",
      "(0008, 0018) SOP Instance UID                    UI: 9999.187569802294709668302400856199305060405\n",
      "(0008, 0020) Study Date                          DA: '20110601'\n",
      "(0008, 0023) Content Date                        DA: '20110601'\n",
      "(0008, 0030) Study Time                          TM: ''\n",
      "(0008, 0033) Content Time                        TM: ''\n",
      "(0008, 0050) Accession Number                    SH: '1523189015131298'\n",
      "(0008, 0060) Modality                            CS: 'CR'\n",
      "(0008, 0068) Presentation Intent Type            CS: 'FOR PRESENTATION'\n",
      "(0008, 0070) Manufacturer                        LO: ''\n",
      "(0008, 0090) Referring Physician's Name          PN: ''\n",
      "(0008, 1032)  Procedure Code Sequence   1 item(s) ---- \n",
      "   (0008, 0100) Code Value                          SH: 'RAD11849'\n",
      "   (0008, 0102) Coding Scheme Designator            SH: 'RP'\n",
      "   (0008, 0104) Code Meaning                        LO: 'CHEST 2V FRONTAL/LATERAL'\n",
      "   ---------\n",
      "(0008, 2218)  Anatomic Region Sequence   0 item(s) ---- \n",
      "(0010, 0010) Patient's Name                      PN: '99'\n",
      "(0010, 0020) Patient ID                          LO: '99'\n",
      "(0010, 0030) Patient's Birth Date                DA: '19480327'\n",
      "(0010, 0040) Patient's Sex                       CS: ''\n",
      "(0018, 0015) Body Part Examined                  CS: 'CHEST'\n",
      "(0018, 0060) KVP                                 DS: \"125.0\"\n",
      "(0018, 1050) Spatial Resolution                  DS: \"0.143\"\n",
      "(0018, 1110) Distance Source to Detector         DS: \"1822.0\"\n",
      "(0018, 1111) Distance Source to Patient          DS: \"1768.0\"\n",
      "(0018, 1114) Estimated Radiographic Magnificatio DS: \"0.99399890889263\"\n",
      "(0018, 1150) Exposure Time                       IS: \"9\"\n",
      "(0018, 1152) Exposure                            IS: \"6\"\n",
      "(0018, 1153) Exposure in uAs                     IS: \"5700\"\n",
      "(0018, 115e) Image and Fluoroscopy Area Dose Pro DS: \"2.149\"\n",
      "(0018, 1164) Imager Pixel Spacing                DS: ['0.143', '0.143']\n",
      "(0018, 1166) Grid                                CS: 'IN'\n",
      "(0018, 1405) Relative X-Ray Exposure             IS: \"346\"\n",
      "(0018, 1508) Positioner Type                     CS: 'NONE'\n",
      "(0018, 1700) Collimator Shape                    CS: 'RECTANGULAR'\n",
      "(0018, 1702) Collimator Left Vertical Edge       IS: \"0\"\n",
      "(0018, 1704) Collimator Right Vertical Edge      IS: \"2531\"\n",
      "(0018, 1706) Collimator Upper Horizontal Edge    IS: \"0\"\n",
      "(0018, 1708) Collimator Lower Horizontal Edge    IS: \"2987\"\n",
      "(0018, 5101) View Position                       CS: 'LL'\n",
      "(0018, 7001) Detector Temperature                DS: \"34.5\"\n",
      "(0018, 7004) Detector Type                       CS: 'SCINTILLATOR'\n",
      "(0018, 7008) Detector Mode                       LT: 'SingleShot1s'\n",
      "(0018, 700c) Date of Last Detector Calibration   DA: '20110417'\n",
      "(0018, 700e) Time of Last Detector Calibration   TM: '153448'\n",
      "(0018, 7012) Detector Time Since Last Exposure   DS: \"33468.75\"\n",
      "(0018, 702a) Detector Manufacturer Name          LO: 'TRIXELL'\n",
      "(0018, 702b) Detector Manufacturer's Model Name  LO: 'PIXIUM4600'\n",
      "(0018, 7030) Field of View Origin                DS: ['0.0', '362.075999999999']\n",
      "(0018, 7032) Field of View Rotation              DS: \"0\"\n",
      "(0018, 7034) Field of View Horizontal Flip       CS: 'YES'\n",
      "(0018, 7050) Filter Material                     CS: ['COPPER', 'ALUMINIUM']\n",
      "(0018, 7060) Exposure Control Mode               CS: '4'\n",
      "(0018, 8150) Exposure Time in uS                 DS: \"9200.0\"\n",
      "(0020, 000d) Study Instance UID                  UI: 9999.206252333873043308029475278806854546249\n",
      "(0020, 000e) Series Instance UID                 UI: 9999.328364678243417341772960859640482556970\n",
      "(0020, 0010) Study ID                            SH: ''\n",
      "(0020, 0011) Series Number                       IS: \"1\"\n",
      "(0020, 0013) Instance Number                     IS: \"2\"\n",
      "(0020, 0020) Patient Orientation                 CS: ['A', 'F']\n",
      "(0020, 0062) Image Laterality                    CS: ''\n",
      "(0028, 0002) Samples per Pixel                   US: 1\n",
      "(0028, 0004) Photometric Interpretation          CS: 'MONOCHROME2'\n",
      "(0028, 0010) Rows                                US: 2988\n",
      "(0028, 0011) Columns                             US: 2532\n",
      "(0028, 0030) Pixel Spacing                       DS: ['0.1438633369923', '0.1438633369923']\n",
      "(0028, 0100) Bits Allocated                      US: 16\n",
      "(0028, 0101) Bits Stored                         US: 12\n",
      "(0028, 0102) High Bit                            US: 11\n",
      "(0028, 0103) Pixel Representation                US: 0\n",
      "(0028, 0301) Burned In Annotation                CS: 'NO'\n",
      "(0028, 1040) Pixel Intensity Relationship        CS: 'LOG'\n",
      "(0028, 1041) Pixel Intensity Relationship Sign   SS: 1\n",
      "(0028, 1050) Window Center                       DS: \"2047.0\"\n",
      "(0028, 1051) Window Width                        DS: \"4095.0\"\n",
      "(0028, 1052) Rescale Intercept                   DS: \"0.0\"\n",
      "(0028, 1053) Rescale Slope                       DS: \"1.0\"\n",
      "(0028, 1054) Rescale Type                        LO: 'US'\n",
      "(0028, 2110) Lossy Image Compression             CS: '00'\n",
      "(0031, 0010) Private Creator                     LO: 'AGFA PACS Archive Mirroring 1.0'\n",
      "(0032, 000a) Study Status ID                     CS: 'READ'\n",
      "(0032, 000c) Study Priority ID                   CS: 'NORMAL'\n",
      "(0032, 1064)  Requested Procedure Code Sequence   1 item(s) ---- \n",
      "   (0008, 0100) Code Value                          SH: 'RAD11849'\n",
      "   (0008, 0102) Coding Scheme Designator            SH: 'RP'\n",
      "   (0008, 0104) Code Meaning                        LO: 'CHEST 2V FRONTAL/LATERAL'\n",
      "   ---------\n",
      "(0033, 0010) Private Creator                     LO: 'MITRA OBJECT UTF8 ATTRIBUTES 1.0'\n",
      "(0040, 0244) Performed Procedure Step Start Date DA: '20110601'\n",
      "(0040, 0245) Performed Procedure Step Start Time TM: '115829.812000'\n",
      "(0040, 0252) Performed Procedure Step Status     CS: ''\n",
      "(0040, 0260)  Performed Protocol Code Sequence   1 item(s) ---- \n",
      "   (0008, 0100) Code Value                          SH: 'RAD11849'\n",
      "   (0008, 0102) Coding Scheme Designator            SH: 'SA'\n",
      "   (0008, 0104) Code Meaning                        LO: 'CHEST 2V FRONTAL/LATERAL'\n",
      "   ---------\n",
      "(0040, 0301) Total Number of Exposures           US: 2\n",
      "(0040, 0302) Entrance Dose                       US: 0\n",
      "(0040, 030e)  Exposure Dose Sequence   0 item(s) ---- \n",
      "(0040, 0321)  Film Consumption Sequence   0 item(s) ---- \n",
      "(0040, 1001) Requested Procedure ID              SH: '2955632'\n",
      "(0040, 1002) Reason for the Requested Procedure  LO: 'increasing dyspnea'\n",
      "(0040, 1003) Requested Procedure Priority        SH: 'ROUTINE'\n",
      "(0040, 2004) Issue Date of Imaging Service Reque DA: '20110601'\n",
      "(2001, 0010) Private Creator                     LO: 'Philips Imaging DD 001'\n",
      "(2001, 0090) Private Creator                     LO: 'Philips Imaging DD 129'\n",
      "(200b, 0010) Private Creator                     LO: 'Philips RAD Imaging DD 001'\n",
      "(200b, 0070) Private Creator                     LO: 'Philips RAD Imaging DD 097'\n",
      "(2050, 0020) Presentation LUT Shape              CS: 'IDENTITY'\n",
      "(7fe0, 0010) Pixel Data                          OW: Array of 15131232 bytes\n"
     ]
    }
   ],
   "source": [
    "ds = pydicom.dcmread(\"Test dicom files/99_IM-2476-1002.dcm\") \n",
    "print(ds)"
   ]
  },
  {
   "cell_type": "markdown",
   "metadata": {},
   "source": [
    "## Updating DICOM files"
   ]
  },
  {
   "cell_type": "code",
   "execution_count": 30,
   "metadata": {},
   "outputs": [],
   "source": [
    "#load selected dicom files to update dicom tags as listed below\n",
    "dicom_file_name = \"1030_IM-0024-2001.dcm\"\n",
    "ds = pydicom.dcmread(\"Test dicom files/\"+dicom_file_name) "
   ]
  },
  {
   "cell_type": "code",
   "execution_count": 31,
   "metadata": {},
   "outputs": [
    {
     "name": "stdout",
     "output_type": "stream",
     "text": [
      "Charlotte Bronte\n",
      "19790606\n",
      "Dr. Mason\n",
      "['DERIVED', 'PRIMARY']\n",
      "20120124 \n",
      "Normal cardiomediastinal silhouette. There is no focal consolidation. There are no XXXX of a large pleural effusion. There is no pneumothorax. There is no acute bony abnormality seen. Mild degenerative changes of the spine.\n",
      "There is no radiographic evidence of acute cardiopulmonary disease.\n",
      "Chest\n"
     ]
    }
   ],
   "source": [
    "#updating values of dicom data\n",
    "#Patient Name - field exists\n",
    "ds.PatientName = 'Charlotte Bronte'\n",
    "print(ds.PatientName)\n",
    "#DOB\n",
    "print(ds.PatientBirthDate)\n",
    "\n",
    "#Physician\n",
    "ds.ReferringPhysicianName = 'Dr. Mason'\n",
    "print(ds.ReferringPhysicianName)\n",
    "#Type of Imaging Study\n",
    "print(ds.ImageType)\n",
    "#Date Time of Study\n",
    "print(ds.StudyDate,ds.StudyTime)\n",
    "#Clinical History (0040,100A)\tSQ\tReason for Requested Procedure Code Sequence\n",
    "ds.add_new(0x00401002,'LO','not presented in dicom file')\n",
    "#ds.ReasonForRequestedProcedure = \n",
    "#Comparison\n",
    "#Technique\n",
    "#Findings from model\n",
    "fin = \"Normal cardiomediastinal silhouette. There is no focal consolidation. There are no XXXX of a large pleural effusion. There is no pneumothorax. There is no acute bony abnormality seen. Mild degenerative changes of the spine.\"\n",
    "print(fin)\n",
    "#impressions from model\n",
    "imp = \"There is no radiographic evidence of acute cardiopulmonary disease.\"\n",
    "print(imp)\n",
    "#tags from model\n",
    "tags = \"Spine/degenerative/mild, degenerative change\"\n",
    "#Body Part Examined\n",
    "ds.BodyPartExamined = \"Chest\"\n",
    "print(ds.BodyPartExamined)\n",
    "pydicom.write_file(dicom_file_name,ds)"
   ]
  },
  {
   "cell_type": "markdown",
   "metadata": {},
   "source": [
    "# Generate Medical Image Report"
   ]
  },
  {
   "cell_type": "code",
   "execution_count": 32,
   "metadata": {},
   "outputs": [
    {
     "name": "stdout",
     "output_type": "stream",
     "text": [
      "PAHOCH RAHA HAI YAHA FUCKKKKK\n",
      "1030_IM-0024-2001.pdf\n",
      "1030_IM-0024-2001.dcm\n"
     ]
    }
   ],
   "source": [
    "#fin,imp,tags = take value from model\n",
    "dcm_data = sp.dicom2dict(ds,fin,imp,tags)\n",
    "sp.generate_medical_report(dicom_file_name,dcm_data)\n",
    "print (dicom_file_name)"
   ]
  },
  {
   "cell_type": "code",
   "execution_count": null,
   "metadata": {
    "collapsed": true
   },
   "outputs": [],
   "source": []
  },
  {
   "cell_type": "code",
   "execution_count": null,
   "metadata": {
    "collapsed": true
   },
   "outputs": [],
   "source": []
  },
  {
   "cell_type": "code",
   "execution_count": null,
   "metadata": {
    "collapsed": true
   },
   "outputs": [],
   "source": []
  },
  {
   "cell_type": "code",
   "execution_count": null,
   "metadata": {
    "collapsed": true
   },
   "outputs": [],
   "source": []
  }
 ],
 "metadata": {
  "kernelspec": {
   "display_name": "pthree",
   "language": "python",
   "name": "pthree"
  },
  "language_info": {
   "codemirror_mode": {
    "name": "ipython",
    "version": 3
   },
   "file_extension": ".py",
   "mimetype": "text/x-python",
   "name": "python",
   "nbconvert_exporter": "python",
   "pygments_lexer": "ipython3",
   "version": "3.7.1"
  }
 },
 "nbformat": 4,
 "nbformat_minor": 2
}
